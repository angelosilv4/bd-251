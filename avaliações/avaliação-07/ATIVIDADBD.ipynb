{
  "nbformat": 4,
  "nbformat_minor": 0,
  "metadata": {
    "colab": {
      "provenance": []
    },
    "kernelspec": {
      "name": "python3",
      "display_name": "Python 3"
    },
    "language_info": {
      "name": "python"
    }
  },
  "cells": [
    {
      "cell_type": "code",
      "source": [
        "%%bash\n",
        "mysql -uroot <<EOF\n",
        "CREATE DATABASE IF NOT EXISTS tutorial_db;\n",
        "USE tutorial_db;\n",
        "CREATE TABLE IF NOT EXISTS sports (\n",
        "  id INT AUTO_INCREMENT PRIMARY KEY,\n",
        "  sport_name VARCHAR(50),\n",
        "  players_per_team INT\n",
        ");\n",
        "INSERT INTO sports (sport_name, players_per_team) VALUES\n",
        "  ('Futebol', 11),\n",
        "  ('Basquete', 5),\n",
        "  ('Vôlei', 6);\n",
        "SELECT * FROM sports;\n",
        "EOF\n"
      ],
      "metadata": {
        "colab": {
          "base_uri": "https://localhost:8080/"
        },
        "id": "uKRr8BJNvOBz",
        "outputId": "d1ddabbf-7f61-47b1-dd81-a7b651b98179"
      },
      "execution_count": 17,
      "outputs": [
        {
          "output_type": "stream",
          "name": "stdout",
          "text": [
            "id\tsport_name\tplayers_per_team\n",
            "1\tFutebol\t11\n",
            "2\tBasquete\t5\n",
            "3\tVôlei\t6\n",
            "4\tFutebol\t11\n",
            "5\tBasquete\t5\n",
            "6\tVôlei\t6\n",
            "7\tFutebol\t11\n",
            "8\tBasquete\t5\n",
            "9\tVôlei\t6\n",
            "10\tFutebol\t11\n",
            "11\tBasquete\t5\n",
            "12\tVôlei\t6\n",
            "13\tFutebol\t11\n",
            "14\tBasquete\t5\n",
            "15\tVôlei\t6\n",
            "16\tFutebol\t11\n",
            "17\tBasquete\t5\n",
            "18\tVôlei\t6\n"
          ]
        }
      ]
    },
    {
      "cell_type": "code",
      "source": [
        "%%bash\n",
        "mysql -uroot <<EOF\n",
        "USE tutorial_db;\n",
        "\n",
        "-- 1) Apagar completamente a tabela e começar do zero\n",
        "DROP TABLE IF EXISTS sports;\n",
        "\n",
        "-- 2) Criar de novo com os três registros\n",
        "CREATE TABLE sports (\n",
        "  id INT AUTO_INCREMENT PRIMARY KEY,\n",
        "  sport_name VARCHAR(50),\n",
        "  players_per_team INT\n",
        ");\n",
        "INSERT INTO sports (sport_name, players_per_team) VALUES\n",
        "  ('Futebol', 11),\n",
        "  ('Basquete', 5),\n",
        "  ('Vôlei', 6);\n",
        "\n",
        "-- 3) Resetar a função antiga\n",
        "DROP FUNCTION IF EXISTS get_players;\n",
        "\n",
        "-- 4) Criar a função (versão simples de sub‑select que sempre retorna 1 linha)\n",
        "DELIMITER //\n",
        "CREATE FUNCTION get_players(sport VARCHAR(50))\n",
        "  RETURNS INT\n",
        "  DETERMINISTIC\n",
        "  READS SQL DATA\n",
        "RETURN (\n",
        "  SELECT players_per_team\n",
        "    FROM sports\n",
        "   WHERE sport_name = sport\n",
        "   LIMIT 1\n",
        ");\n",
        "//\n",
        "DELIMITER ;\n",
        "\n",
        "-- 5) Testar\n",
        "SELECT get_players('Basquete') AS basquete_players;\n",
        "EOF\n",
        "\n"
      ],
      "metadata": {
        "colab": {
          "base_uri": "https://localhost:8080/"
        },
        "id": "pdBkNeRdviX6",
        "outputId": "7297ae0c-56e2-4609-c330-5c53311b3cd7"
      },
      "execution_count": 18,
      "outputs": [
        {
          "output_type": "stream",
          "name": "stdout",
          "text": [
            "basquete_players\n",
            "5\n"
          ]
        }
      ]
    },
    {
      "cell_type": "code",
      "execution_count": 19,
      "metadata": {
        "colab": {
          "base_uri": "https://localhost:8080/"
        },
        "id": "SYdVmuOIt09k",
        "outputId": "9688b8c8-ce79-4579-cf19-87b15180469b"
      },
      "outputs": [
        {
          "output_type": "stream",
          "name": "stdout",
          "text": [
            "W: Skipping acquire of configured file 'main/source/Sources' as repository 'https://r2u.stat.illinois.edu/ubuntu jammy InRelease' does not seem to provide it (sources.list entry misspelt?)\n",
            " * Starting MySQL database server mysqld\n",
            "   ...done.\n"
          ]
        }
      ],
      "source": [
        "\n",
        "!apt-get update -qq\n",
        "!DEBIAN_FRONTEND=noninteractive apt-get install -qq -y mysql-server\n",
        "\n",
        "\n",
        "!service mysql start\n",
        "\n",
        "\n",
        "!mysql -e \"ALTER USER 'root'@'localhost' IDENTIFIED WITH mysql_native_password BY ''; FLUSH PRIVILEGES;\"\n"
      ]
    }
  ]
}